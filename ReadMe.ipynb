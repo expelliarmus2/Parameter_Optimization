{
 "cells": [
  {
   "cell_type": "markdown",
   "source": [
    "# Parameter Optimization\n",
    "这里采用的参数优化算法有梯度下降法(Gradient Desent),粒子数算法(PSO)，模拟退火(Simulated Annealing)，蒙特卡罗全局模拟(Monte Carlo)。 问题的背景是华为开发者大赛第三题\n",
    "\n",
    "问题的北京\\href{https://developer.huaweicloud.com/competition/competitions/1000000101/test}{华为开发者大赛第三题}\n",
    "\n",
    "这个问题用单一的方法很难优化，应该是存在Barren Plateau的问题，所以采取多种方法结合。每一种算法的全局搜索能力与局部搜索能力都不同，后面陆续会有其它的方法以及例子。https://www.jianshu.com/p/eead09fa9347 给出了优化算法核心的思想以及程序（github）。"
   ],
   "metadata": {
    "collapsed": false,
    "pycharm": {
     "name": "#%% md\n"
    }
   }
  },
  {
   "cell_type": "markdown",
   "source": [
    "## Gradient Descent\n",
    "\n",
    "剩下的两种方法以后补充其它的例子，来源于https://github.com/GaoBoYu599/Optimization_Algorithm\n",
    "\n",
    "* 梯度下降算法速度较慢、迭代次数较大，并且最后的结果是近似值。给定随机扰动结果好则接受反之不接受。\n",
    "* 梯度下降算法速度较慢、迭代次数较大，并且最后的结果是近似值。给定随机扰动结果好则接受反之不接受。\n",
    "* 共轭梯度法是介于梯度下降和牛顿法之间的折中方法，既有牛顿法的收敛速度，又不需要用到函数的二阶导！推荐这种方法！"
   ],
   "metadata": {
    "collapsed": false,
    "pycharm": {
     "name": "#%% md\n"
    }
   }
  },
  {
   "cell_type": "markdown",
   "source": [
    "## Particle Swarm Optimization(粒子群算法)\n",
    "\n",
    "PSO算法的核心是利用鸟类再谷场寻找食物的思想，设想这样一个场景：一群鸟在谷场随机搜索食物，但是这个区域只有一堆谷物，所有的鸟都不知道食物在哪里，但是知道他们离它有多远。一个最简单有效的策略十搜索离谷物最近的鸟的附近区域。在实际问题中每一个临时的解都是一只鸟，称之为“粒子”，所有粒子都有一个由被优化函数决定的适应值(fitness value),每个粒子还有速度决定飞行的方向和距离。然后在空间随机搜索。速度的表达式为\n",
    "$$\n",
    "v_{i+1}=w * v_{i}+c 1 * \\operatorname{rand}() *\\left(\\text { Gbest } 1-\\text { \\theta }_{i}\\right)+c 2 * \\operatorname{rand}() *(\\text { Gbest } 2-\n",
    "\\text { theta } \\left._{i}\\right)+c 3 * \\operatorname{rand}() *\\left(\\text { Pbest }-\\text { \\theta }_{i}\\right)\n",
    "$$\n",
    "其中Gbest1，Gbest2是全局最优和次全局最优，Pbest是当前循环的最优，也可以只保留全局最优。$\\textbf{所以上面表达式的含义就是说每只鸟保留自己大部分的初速度，然后通过全局最优以及次全局最优的值，以及当前最优的值调整自己的飞行速度，很显然是距离越远就需要飞的越快。}$\n",
    "$$\n",
    "\\theta_{i+1} = \\theta_i + v\n",
    "$$\n",
    "\n",
    "更多的信息可以参照：https://www.cnblogs.com/qw-blog/p/10338477.html 里面有更加相信的讲解。\n",
    "\n",
    "#### 说明\n",
    "* 一般weight取值0.8全局搜索能力强，取值0.4局部搜索较强。\n",
    "* c1,c3之和3到5，c1=1.4，c3=1.4是一个典型的取值。\n",
    "* v还应该有一个上下界，保证速度不会太大。\n",
    "* 粒子数一般20-30，可以迭代很多次，直到收敛。"
   ],
   "metadata": {
    "collapsed": false,
    "pycharm": {
     "name": "#%% md\n"
    }
   }
  },
  {
   "cell_type": "markdown",
   "source": [
    "## 改进的PSO\n",
    "它的思想与PSO算法类似，只是我们的迭代公式不同。保证最优解不动，其余的解向最优解靠近，但是这种算法的全局搜索能力不如PSO。更新公式为\n",
    "$$\n",
    "\\theta_{i+1} = p \\theta_i + (1-p) \\theta_{g_i}\n",
    "$$\n",
    "其中的p是概率按照下面的式子更新：\n",
    "$$\n",
    "p = p_{min} + (p_{max} -  p_{min} ) \\frac{\\log_{10}{(k+1)}}{\\log_{10}{(times)}}\n",
    "$$\n",
    "使得最开始向最优解前进快，逐渐变慢，避免漏掉最优解。选取log10函数是为了步长小的时候迭代次数更多。这一种方法类似捕鱼收网，后面我叫这种方法为捕鱼算法。"
   ],
   "metadata": {
    "collapsed": false,
    "pycharm": {
     "name": "#%% md\n"
    }
   }
  },
  {
   "cell_type": "markdown",
   "source": [
    "## Simulated Annealing(SA)\n",
    "模拟退火算法（Simulate Anneal，SA）是一种通用概率演算法，用来在一个大的搜寻空间内找寻命题的最优解。模拟退火是由S.Kirkpatrick, C.D.Gelatt和M.P.Vecchi在1983年所发明的。模拟退火算法是解决TSP(旅行商)问题的有效方法之一。$\\textbf{也就是说当一个方案数量极大的时候，而且不是一个单峰函数时，我们可以采取模拟退火算法}$\n",
    "\n",
    "模拟退火算法是从一个较高的温度$T_0$出发，温度逐渐降低，降低按照公式$T_{max}=0.95*T_{max}$,其中0.95是降温系数，还有一个终止温度$T_k$略大于0，程序直到$T\\leq T_k$。在每一个温度迭代L次，在每一次执行如下过程。给定参数以随机的扰动，如果当前结果更好，则接受，如果当前结果相比上一次不是很好，那么以概率\n",
    "$$\n",
    "p = \\exp{(-\\frac{valueLast - valueNow}{T_{max}})}\n",
    "$$\n",
    "接受结果（ rand()<p ） 。\n",
    "\n",
    "https://www.luogu.org/blog/m-sea/qian-tan-SA 有张图很好的说明了模拟退火的过程，表现了模拟退火具有跳出局部最优解的能力。"
   ],
   "metadata": {
    "collapsed": false,
    "pycharm": {
     "name": "#%% md\n"
    }
   }
  },
  {
   "cell_type": "markdown",
   "source": [
    "## 算法的比较\n",
    "\\textbf{MC，SA，PSO都具有全局搜索能力。但是全局搜索能力十逐渐上升的。捕鱼算法和梯度下降都具有局部搜索能力，但是捕鱼算法的效率高很多。更容易找到最优解，也有一定的几率跳出局部最优。}\n",
    "\n",
    "这里有一些结果(要求的结果就是0.018以上)\n",
    "* [4.7238,5.4404,1.5461,5.0168,5.2693]结果是0.0216\n",
    "* [4.7231,5.4567,1.5493,5.0330,5.2683]结果是0.0230:\n",
    "* [4.6957,4.8711,4.7271,5.04375.6928]结果是0.0186\n",
    "* [4.7107,4.4941,4.6916,3.0778,2.1222]结果是0.0181\n",
    "* [1.5763,3.5455,4.7141,3.9661,3.2147]结果是0.0180\n",
    "\n",
    "效果最好的是模拟退火算法，仅仅用单一的方法就可以得到想要的结果，而且概率超过70%(实际两次都成功了)，可能这种算法最不容易陷入局部最优，因为它不止搜索局部最优附近的区域。相比于适合所有方法的MC，它的效率高很多。\n",
    "* [3.1405,3.1926,3.3749,-0.2023,3.0708]结果是0.020\n",
    "* [-4.7501,-1.0291,1.6055,0.5677,0.2289]结果是0.0185\n",
    "* [-4.7501,-1.0291,1.6055,0.5677,0.2289]结果是0.0185\n",
    "* [4.7269,1.6153,4.6922,0.6664,1.4218]结果是0.022\n",
    "* [1.5712,1.6153,1.5599,5.5817]结果是0.021\n",
    "\n",
    "下面是一些总结：\n",
    "* MC+newPSO一定程度上可以实现想要的功能。但是只有在MC选择的数据很多的时候才有用。一般2000，3000，需要花费很多的时间。实际上运行时间也没有比第二种慢。\n",
    "* oldPSO+newPSO可以满足需要oldPSO选择30个粒子，迭代100次。newPSO用第一种方法中好的结果加上边界值。迭代次数一般几次到几十次不等，但是也不是每次都有效,这些方法里面都会有引入随机数。\n",
    "* SA+newPSo在实验的过程中，仅仅SA就完成了准确率大于0.018的任务，表明在许多的极值的情况下SA算法表现优异。可能这种算法最不容易陷入局部最优，因为它不止搜索局部最优附近的区域。相比于适合所有方法的MC，它的效率高很多。如果想要得到更高的效率可以考虑将两种方法结合，改进后的PSO算法拥有更加高效的局部搜索能力，这一点从算法的原理可以看出来。\n",
    "\n",
    "ubuntu上面github的使用https://blog.csdn.net/godop/article/details/80500704"
   ],
   "metadata": {
    "collapsed": false,
    "pycharm": {
     "name": "#%% md\n"
    }
   }
  },
  {
   "cell_type": "code",
   "execution_count": null,
   "outputs": [],
   "source": [],
   "metadata": {
    "collapsed": false,
    "pycharm": {
     "name": "#%%\n"
    }
   }
  }
 ],
 "metadata": {
  "kernelspec": {
   "display_name": "Python 3",
   "language": "python",
   "name": "python3"
  },
  "language_info": {
   "codemirror_mode": {
    "name": "ipython",
    "version": 2
   },
   "file_extension": ".py",
   "mimetype": "text/x-python",
   "name": "python",
   "nbconvert_exporter": "python",
   "pygments_lexer": "ipython2",
   "version": "2.7.6"
  }
 },
 "nbformat": 4,
 "nbformat_minor": 0
}